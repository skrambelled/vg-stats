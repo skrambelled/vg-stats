{
 "metadata": {
  "language_info": {
   "codemirror_mode": {
    "name": "ipython",
    "version": 3
   },
   "file_extension": ".py",
   "mimetype": "text/x-python",
   "name": "python",
   "nbconvert_exporter": "python",
   "pygments_lexer": "ipython3",
   "version": "3.9.0-final"
  },
  "orig_nbformat": 2,
  "kernelspec": {
   "name": "python39064bitvenvvenvf96eba0e8a68404c97271e104f7a5a03",
   "display_name": "Python 3.9.0 64-bit ('.venv': venv)"
  }
 },
 "nbformat": 4,
 "nbformat_minor": 2,
 "cells": [
  {
   "source": [
    "# Bike stats\n",
    "\n",
    "Mark Bell\n",
    "\n",
    "2020 Nov 29"
   ],
   "cell_type": "markdown",
   "metadata": {}
  },
  {
   "cell_type": "code",
   "execution_count": 1,
   "metadata": {},
   "outputs": [],
   "source": [
    "import pandas as pd"
   ]
  },
  {
   "cell_type": "code",
   "execution_count": 2,
   "metadata": {},
   "outputs": [],
   "source": [
    "station = pd.read_csv('./csv/station.csv')"
   ]
  },
  {
   "cell_type": "code",
   "execution_count": 6,
   "metadata": {},
   "outputs": [],
   "source": [
    "# uhh, this data set repeated the field headers on line 50793...  so i just deleted that row? then the trip id counter is reset down to 400 something? this might have two data sets, duplicate data, or something else is funky\n",
    "trip = pd.read_csv('./csv/trip.csv')"
   ]
  },
  {
   "cell_type": "code",
   "execution_count": 4,
   "metadata": {},
   "outputs": [],
   "source": [
    "weather = pd.read_csv('./csv/weather.csv')"
   ]
  },
  {
   "source": [
    "## What is the average trip duration for a borrowed bicycle?"
   ],
   "cell_type": "markdown",
   "metadata": {}
  },
  {
   "cell_type": "code",
   "execution_count": 15,
   "metadata": {},
   "outputs": [
    {
     "output_type": "execute_result",
     "data": {
      "text/plain": [
       "'19.64 minutes'"
      ]
     },
     "metadata": {},
     "execution_count": 15
    }
   ],
   "source": [
    "duration = trip['tripduration'].mean() / 60\n",
    "\n",
    "# playing with float precision\n",
    "minutes = '%.2f'%duration\n",
    "f\"{minutes} minutes\""
   ]
  },
  {
   "source": [
    "## What’s the most common age of a bicycle-sharer?"
   ],
   "cell_type": "markdown",
   "metadata": {}
  },
  {
   "cell_type": "code",
   "execution_count": 12,
   "metadata": {},
   "outputs": [
    {
     "output_type": "execute_result",
     "data": {
      "text/plain": [
       "'33 years old.'"
      ]
     },
     "metadata": {},
     "execution_count": 12
    }
   ],
   "source": [
    "f\"{2020 - int(trip['birthyear'].mode()[0])} years old.\""
   ]
  },
  {
   "source": [
    "## Given all the weather data here, find the average precipitation per month, and the median precipitation."
   ],
   "cell_type": "markdown",
   "metadata": {}
  },
  {
   "cell_type": "code",
   "execution_count": 28,
   "metadata": {},
   "outputs": [],
   "source": [
    "def date_to_month(date):\n",
    "    return int(date.split('/')[0])"
   ]
  },
  {
   "cell_type": "code",
   "execution_count": 34,
   "metadata": {},
   "outputs": [],
   "source": [
    "precip = weather[['Date', 'Precipitation_In']]\n",
    "precip['Month'] = precip['Date'].apply(date_to_month)"
   ]
  },
  {
   "cell_type": "code",
   "execution_count": 35,
   "metadata": {},
   "outputs": [
    {
     "output_type": "execute_result",
     "data": {
      "text/plain": [
       "       Precipitation_In\n",
       "Month                  \n",
       "1              0.143548\n",
       "2              0.168421\n",
       "3              0.156935\n",
       "4              0.051333\n",
       "5              0.012419\n",
       "6              0.030500\n",
       "7              0.012097\n",
       "8              0.018226\n",
       "9              0.041000\n",
       "10             0.189000\n",
       "11             0.187833\n",
       "12             0.236290"
      ],
      "text/html": "<div>\n<style scoped>\n    .dataframe tbody tr th:only-of-type {\n        vertical-align: middle;\n    }\n\n    .dataframe tbody tr th {\n        vertical-align: top;\n    }\n\n    .dataframe thead th {\n        text-align: right;\n    }\n</style>\n<table border=\"1\" class=\"dataframe\">\n  <thead>\n    <tr style=\"text-align: right;\">\n      <th></th>\n      <th>Precipitation_In</th>\n    </tr>\n    <tr>\n      <th>Month</th>\n      <th></th>\n    </tr>\n  </thead>\n  <tbody>\n    <tr>\n      <th>1</th>\n      <td>0.143548</td>\n    </tr>\n    <tr>\n      <th>2</th>\n      <td>0.168421</td>\n    </tr>\n    <tr>\n      <th>3</th>\n      <td>0.156935</td>\n    </tr>\n    <tr>\n      <th>4</th>\n      <td>0.051333</td>\n    </tr>\n    <tr>\n      <th>5</th>\n      <td>0.012419</td>\n    </tr>\n    <tr>\n      <th>6</th>\n      <td>0.030500</td>\n    </tr>\n    <tr>\n      <th>7</th>\n      <td>0.012097</td>\n    </tr>\n    <tr>\n      <th>8</th>\n      <td>0.018226</td>\n    </tr>\n    <tr>\n      <th>9</th>\n      <td>0.041000</td>\n    </tr>\n    <tr>\n      <th>10</th>\n      <td>0.189000</td>\n    </tr>\n    <tr>\n      <th>11</th>\n      <td>0.187833</td>\n    </tr>\n    <tr>\n      <th>12</th>\n      <td>0.236290</td>\n    </tr>\n  </tbody>\n</table>\n</div>"
     },
     "metadata": {},
     "execution_count": 35
    }
   ],
   "source": [
    "# mean (or average)\n",
    "precip[['Month', 'Precipitation_In']].groupby('Month').mean().sort_values(by='Month')"
   ]
  },
  {
   "cell_type": "code",
   "execution_count": 36,
   "metadata": {},
   "outputs": [
    {
     "output_type": "execute_result",
     "data": {
      "text/plain": [
       "       Precipitation_In\n",
       "Month                  \n",
       "1                 0.020\n",
       "2                 0.040\n",
       "3                 0.025\n",
       "4                 0.000\n",
       "5                 0.000\n",
       "6                 0.000\n",
       "7                 0.000\n",
       "8                 0.000\n",
       "9                 0.000\n",
       "10                0.040\n",
       "11                0.035\n",
       "12                0.100"
      ],
      "text/html": "<div>\n<style scoped>\n    .dataframe tbody tr th:only-of-type {\n        vertical-align: middle;\n    }\n\n    .dataframe tbody tr th {\n        vertical-align: top;\n    }\n\n    .dataframe thead th {\n        text-align: right;\n    }\n</style>\n<table border=\"1\" class=\"dataframe\">\n  <thead>\n    <tr style=\"text-align: right;\">\n      <th></th>\n      <th>Precipitation_In</th>\n    </tr>\n    <tr>\n      <th>Month</th>\n      <th></th>\n    </tr>\n  </thead>\n  <tbody>\n    <tr>\n      <th>1</th>\n      <td>0.020</td>\n    </tr>\n    <tr>\n      <th>2</th>\n      <td>0.040</td>\n    </tr>\n    <tr>\n      <th>3</th>\n      <td>0.025</td>\n    </tr>\n    <tr>\n      <th>4</th>\n      <td>0.000</td>\n    </tr>\n    <tr>\n      <th>5</th>\n      <td>0.000</td>\n    </tr>\n    <tr>\n      <th>6</th>\n      <td>0.000</td>\n    </tr>\n    <tr>\n      <th>7</th>\n      <td>0.000</td>\n    </tr>\n    <tr>\n      <th>8</th>\n      <td>0.000</td>\n    </tr>\n    <tr>\n      <th>9</th>\n      <td>0.000</td>\n    </tr>\n    <tr>\n      <th>10</th>\n      <td>0.040</td>\n    </tr>\n    <tr>\n      <th>11</th>\n      <td>0.035</td>\n    </tr>\n    <tr>\n      <th>12</th>\n      <td>0.100</td>\n    </tr>\n  </tbody>\n</table>\n</div>"
     },
     "metadata": {},
     "execution_count": 36
    }
   ],
   "source": [
    "# Median\n",
    "precip[['Month', 'Precipitation_In']].groupby('Month').median().sort_values(by='Month')"
   ]
  },
  {
   "source": [
    "## What’s the average number of bikes at a given bike station?"
   ],
   "cell_type": "markdown",
   "metadata": {}
  },
  {
   "cell_type": "code",
   "execution_count": 95,
   "metadata": {},
   "outputs": [
    {
     "output_type": "execute_result",
     "data": {
      "text/plain": [
       "'17.74 bikes per station, on average... discluding decommissioned stations.'"
      ]
     },
     "metadata": {},
     "execution_count": 95
    }
   ],
   "source": [
    "active_station = station[station['current_dockcount'] > 0]\n",
    "f\"{'%.2f'%active_station['current_dockcount'].mean()} bikes per station, on average... discluding decommissioned stations.\""
   ]
  },
  {
   "source": [
    "## When a bike station is modified, is it more likely that it’ll lose bikes or gain bikes? How do you know?"
   ],
   "cell_type": "markdown",
   "metadata": {}
  },
  {
   "cell_type": "code",
   "execution_count": 94,
   "metadata": {},
   "outputs": [
    {
     "output_type": "execute_result",
     "data": {
      "text/plain": [
       "'Of the 17 modified stations, 7 lost some bikes, and 10 gained some bikes. So when a station is modified it is more likely to gain bikes.'"
      ]
     },
     "metadata": {},
     "execution_count": 94
    }
   ],
   "source": [
    "# this one took a whillllllllle to figure out! especially how to drop rows when they are not applicable\n",
    "modified = station.dropna(subset=['modification_date'])\n",
    "modified = modified[['install_dockcount', 'current_dockcount']]\n",
    "gained = modified.loc[(modified['install_dockcount'] > modified['current_dockcount'])].count()[0]\n",
    "lost = modified.loc[(modified['install_dockcount'] < modified['current_dockcount'])].count()[0]\n",
    "f\"Of the {gained+lost} modified stations, {lost} lost some bikes, and {gained} gained some bikes. So when a station is modified it is more likely to {'gain' if gained>lost else 'lose'} bikes.\""
   ]
  },
  {
   "source": [
    "## What is the longest trip?"
   ],
   "cell_type": "markdown",
   "metadata": {}
  },
  {
   "cell_type": "code",
   "execution_count": 123,
   "metadata": {},
   "outputs": [
    {
     "output_type": "execute_result",
     "data": {
      "text/plain": [
       "'8.00 hours'"
      ]
     },
     "metadata": {},
     "execution_count": 123
    }
   ],
   "source": [
    "hours = '%.2f'%(trip['tripduration'].max() / 60 / 60)\n",
    "f\"{hours} hours\""
   ]
  },
  {
   "source": [
    "## What is the most popular starting point?"
   ],
   "cell_type": "markdown",
   "metadata": {}
  },
  {
   "cell_type": "code",
   "execution_count": 130,
   "metadata": {},
   "outputs": [
    {
     "output_type": "execute_result",
     "data": {
      "text/plain": [
       "'Pier 69 / Alaskan Way & Clay St'"
      ]
     },
     "metadata": {},
     "execution_count": 130
    }
   ],
   "source": [
    "trip['from_station_name'].mode()[0]"
   ]
  },
  {
   "source": [
    "## And the least common?"
   ],
   "cell_type": "markdown",
   "metadata": {}
  },
  {
   "cell_type": "code",
   "execution_count": 141,
   "metadata": {},
   "outputs": [
    {
     "output_type": "execute_result",
     "data": {
      "text/plain": [
       "Pronto shop    1\n",
       "Name: from_station_name, dtype: int64"
      ]
     },
     "metadata": {},
     "execution_count": 141
    }
   ],
   "source": [
    "trip['from_station_name'].value_counts().tail(1)"
   ]
  },
  {
   "cell_type": "code",
   "execution_count": null,
   "metadata": {},
   "outputs": [],
   "source": []
  }
 ]
}