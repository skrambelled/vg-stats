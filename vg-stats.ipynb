{
 "metadata": {
  "language_info": {
   "codemirror_mode": {
    "name": "ipython",
    "version": 3
   },
   "file_extension": ".py",
   "mimetype": "text/x-python",
   "name": "python",
   "nbconvert_exporter": "python",
   "pygments_lexer": "ipython3",
   "version": "3.9.0-final"
  },
  "orig_nbformat": 2,
  "kernelspec": {
   "name": "python39064bitvenvvenvf96eba0e8a68404c97271e104f7a5a03",
   "display_name": "Python 3.9.0 64-bit ('.venv': venv)"
  }
 },
 "nbformat": 4,
 "nbformat_minor": 2,
 "cells": [
  {
   "source": [
    "# Video Game Sales\n",
    "\n",
    "Mark Bell\n",
    "\n",
    "2020 Nov 29"
   ],
   "cell_type": "markdown",
   "metadata": {}
  },
  {
   "cell_type": "code",
   "execution_count": 1,
   "metadata": {},
   "outputs": [],
   "source": [
    "import pandas as pd"
   ]
  },
  {
   "cell_type": "code",
   "execution_count": 2,
   "metadata": {},
   "outputs": [
    {
     "output_type": "execute_result",
     "data": {
      "text/plain": [
       "   Rank                      Name Platform    Year         Genre Publisher  \\\n",
       "0     1                Wii Sports      Wii  2006.0        Sports  Nintendo   \n",
       "1     2         Super Mario Bros.      NES  1985.0      Platform  Nintendo   \n",
       "2     3            Mario Kart Wii      Wii  2008.0        Racing  Nintendo   \n",
       "3     4         Wii Sports Resort      Wii  2009.0        Sports  Nintendo   \n",
       "4     5  Pokemon Red/Pokemon Blue       GB  1996.0  Role-Playing  Nintendo   \n",
       "\n",
       "   NA_Sales  EU_Sales  JP_Sales  Other_Sales  Global_Sales  \n",
       "0     41.49     29.02      3.77         8.46         82.74  \n",
       "1     29.08      3.58      6.81         0.77         40.24  \n",
       "2     15.85     12.88      3.79         3.31         35.82  \n",
       "3     15.75     11.01      3.28         2.96         33.00  \n",
       "4     11.27      8.89     10.22         1.00         31.37  "
      ],
      "text/html": "<div>\n<style scoped>\n    .dataframe tbody tr th:only-of-type {\n        vertical-align: middle;\n    }\n\n    .dataframe tbody tr th {\n        vertical-align: top;\n    }\n\n    .dataframe thead th {\n        text-align: right;\n    }\n</style>\n<table border=\"1\" class=\"dataframe\">\n  <thead>\n    <tr style=\"text-align: right;\">\n      <th></th>\n      <th>Rank</th>\n      <th>Name</th>\n      <th>Platform</th>\n      <th>Year</th>\n      <th>Genre</th>\n      <th>Publisher</th>\n      <th>NA_Sales</th>\n      <th>EU_Sales</th>\n      <th>JP_Sales</th>\n      <th>Other_Sales</th>\n      <th>Global_Sales</th>\n    </tr>\n  </thead>\n  <tbody>\n    <tr>\n      <th>0</th>\n      <td>1</td>\n      <td>Wii Sports</td>\n      <td>Wii</td>\n      <td>2006.0</td>\n      <td>Sports</td>\n      <td>Nintendo</td>\n      <td>41.49</td>\n      <td>29.02</td>\n      <td>3.77</td>\n      <td>8.46</td>\n      <td>82.74</td>\n    </tr>\n    <tr>\n      <th>1</th>\n      <td>2</td>\n      <td>Super Mario Bros.</td>\n      <td>NES</td>\n      <td>1985.0</td>\n      <td>Platform</td>\n      <td>Nintendo</td>\n      <td>29.08</td>\n      <td>3.58</td>\n      <td>6.81</td>\n      <td>0.77</td>\n      <td>40.24</td>\n    </tr>\n    <tr>\n      <th>2</th>\n      <td>3</td>\n      <td>Mario Kart Wii</td>\n      <td>Wii</td>\n      <td>2008.0</td>\n      <td>Racing</td>\n      <td>Nintendo</td>\n      <td>15.85</td>\n      <td>12.88</td>\n      <td>3.79</td>\n      <td>3.31</td>\n      <td>35.82</td>\n    </tr>\n    <tr>\n      <th>3</th>\n      <td>4</td>\n      <td>Wii Sports Resort</td>\n      <td>Wii</td>\n      <td>2009.0</td>\n      <td>Sports</td>\n      <td>Nintendo</td>\n      <td>15.75</td>\n      <td>11.01</td>\n      <td>3.28</td>\n      <td>2.96</td>\n      <td>33.00</td>\n    </tr>\n    <tr>\n      <th>4</th>\n      <td>5</td>\n      <td>Pokemon Red/Pokemon Blue</td>\n      <td>GB</td>\n      <td>1996.0</td>\n      <td>Role-Playing</td>\n      <td>Nintendo</td>\n      <td>11.27</td>\n      <td>8.89</td>\n      <td>10.22</td>\n      <td>1.00</td>\n      <td>31.37</td>\n    </tr>\n  </tbody>\n</table>\n</div>"
     },
     "metadata": {},
     "execution_count": 2
    }
   ],
   "source": [
    "df = pd.read_csv('./csv/vgsales.csv')\n",
    "df.head(5)"
   ]
  },
  {
   "source": [
    "## Most common video game publisher"
   ],
   "cell_type": "markdown",
   "metadata": {}
  },
  {
   "cell_type": "code",
   "execution_count": 3,
   "metadata": {},
   "outputs": [
    {
     "output_type": "execute_result",
     "data": {
      "text/plain": [
       "'Electronic Arts'"
      ]
     },
     "metadata": {},
     "execution_count": 3
    }
   ],
   "source": [
    "df['Publisher'].mode()[0]"
   ]
  },
  {
   "source": [
    "## Most common platform"
   ],
   "cell_type": "markdown",
   "metadata": {}
  },
  {
   "cell_type": "code",
   "execution_count": 4,
   "metadata": {},
   "outputs": [
    {
     "output_type": "execute_result",
     "data": {
      "text/plain": [
       "'DS'"
      ]
     },
     "metadata": {},
     "execution_count": 4
    }
   ],
   "source": [
    "df['Platform'].mode()[0]"
   ]
  },
  {
   "source": [
    "## Most common genre"
   ],
   "cell_type": "markdown",
   "metadata": {}
  },
  {
   "cell_type": "code",
   "execution_count": 5,
   "metadata": {},
   "outputs": [
    {
     "output_type": "execute_result",
     "data": {
      "text/plain": [
       "'Action'"
      ]
     },
     "metadata": {},
     "execution_count": 5
    }
   ],
   "source": [
    "df['Genre'].mode()[0]"
   ]
  },
  {
   "source": [
    "## Top 20 highest grossing games"
   ],
   "cell_type": "code",
   "metadata": {},
   "execution_count": 6,
   "outputs": []
  },
  {
   "cell_type": "code",
   "execution_count": 7,
   "metadata": {},
   "outputs": [
    {
     "output_type": "execute_result",
     "data": {
      "text/plain": [
       "                                              Global_Sales\n",
       "Name                                                      \n",
       "Wii Sports                                           82.74\n",
       "Super Mario Bros.                                    40.24\n",
       "Mario Kart Wii                                       35.82\n",
       "Wii Sports Resort                                    33.00\n",
       "Pokemon Red/Pokemon Blue                             31.37\n",
       "Tetris                                               30.26\n",
       "New Super Mario Bros.                                30.01\n",
       "Wii Play                                             29.02\n",
       "New Super Mario Bros. Wii                            28.62\n",
       "Duck Hunt                                            28.31\n",
       "Nintendogs                                           24.76\n",
       "Mario Kart DS                                        23.42\n",
       "Pokemon Gold/Pokemon Silver                          23.10\n",
       "Wii Fit                                              22.72\n",
       "Wii Fit Plus                                         22.00\n",
       "Kinect Adventures!                                   21.82\n",
       "Grand Theft Auto V                                   21.40\n",
       "Grand Theft Auto: San Andreas                        20.81\n",
       "Super Mario World                                    20.61\n",
       "Brain Age: Train Your Brain in Minutes a Day         20.22"
      ],
      "text/html": "<div>\n<style scoped>\n    .dataframe tbody tr th:only-of-type {\n        vertical-align: middle;\n    }\n\n    .dataframe tbody tr th {\n        vertical-align: top;\n    }\n\n    .dataframe thead th {\n        text-align: right;\n    }\n</style>\n<table border=\"1\" class=\"dataframe\">\n  <thead>\n    <tr style=\"text-align: right;\">\n      <th></th>\n      <th>Global_Sales</th>\n    </tr>\n    <tr>\n      <th>Name</th>\n      <th></th>\n    </tr>\n  </thead>\n  <tbody>\n    <tr>\n      <th>Wii Sports</th>\n      <td>82.74</td>\n    </tr>\n    <tr>\n      <th>Super Mario Bros.</th>\n      <td>40.24</td>\n    </tr>\n    <tr>\n      <th>Mario Kart Wii</th>\n      <td>35.82</td>\n    </tr>\n    <tr>\n      <th>Wii Sports Resort</th>\n      <td>33.00</td>\n    </tr>\n    <tr>\n      <th>Pokemon Red/Pokemon Blue</th>\n      <td>31.37</td>\n    </tr>\n    <tr>\n      <th>Tetris</th>\n      <td>30.26</td>\n    </tr>\n    <tr>\n      <th>New Super Mario Bros.</th>\n      <td>30.01</td>\n    </tr>\n    <tr>\n      <th>Wii Play</th>\n      <td>29.02</td>\n    </tr>\n    <tr>\n      <th>New Super Mario Bros. Wii</th>\n      <td>28.62</td>\n    </tr>\n    <tr>\n      <th>Duck Hunt</th>\n      <td>28.31</td>\n    </tr>\n    <tr>\n      <th>Nintendogs</th>\n      <td>24.76</td>\n    </tr>\n    <tr>\n      <th>Mario Kart DS</th>\n      <td>23.42</td>\n    </tr>\n    <tr>\n      <th>Pokemon Gold/Pokemon Silver</th>\n      <td>23.10</td>\n    </tr>\n    <tr>\n      <th>Wii Fit</th>\n      <td>22.72</td>\n    </tr>\n    <tr>\n      <th>Wii Fit Plus</th>\n      <td>22.00</td>\n    </tr>\n    <tr>\n      <th>Kinect Adventures!</th>\n      <td>21.82</td>\n    </tr>\n    <tr>\n      <th>Grand Theft Auto V</th>\n      <td>21.40</td>\n    </tr>\n    <tr>\n      <th>Grand Theft Auto: San Andreas</th>\n      <td>20.81</td>\n    </tr>\n    <tr>\n      <th>Super Mario World</th>\n      <td>20.61</td>\n    </tr>\n    <tr>\n      <th>Brain Age: Train Your Brain in Minutes a Day</th>\n      <td>20.22</td>\n    </tr>\n  </tbody>\n</table>\n</div>"
     },
     "metadata": {},
     "execution_count": 7
    }
   ],
   "source": [
    "df[['Name', 'Global_Sales']].head(20).sort_values(by='Global_Sales', ascending=False).set_index('Name')"
   ]
  },
  {
   "source": [
    "## North American median sales"
   ],
   "cell_type": "markdown",
   "metadata": {}
  },
  {
   "cell_type": "code",
   "execution_count": 8,
   "metadata": {},
   "outputs": [
    {
     "output_type": "execute_result",
     "data": {
      "text/plain": [
       "                                                    Rank Platform    Year  \\\n",
       "Name                                                                        \n",
       "Cars: Race-O-Rama                                   4210      PS2  2009.0   \n",
       "Dora The Explorer: Dora Saves the Snow Princess     4252       DS  2008.0   \n",
       "Sesame Street: Elmo's A-to-Zoo Adventure            6179       DS  2010.0   \n",
       "TRON: Evolution                                     4557      PS3  2010.0   \n",
       "Transformers: Revenge of the Fallen (Wii & PS2 ...  4356       DS  2009.0   \n",
       "Classic NES Series: Metroid                         4494      GBA  2004.0   \n",
       "Disney Princess: Enchanting Storybooks              4743      Wii  2011.0   \n",
       "Marvel: Ultimate Alliance 2                         5466      Wii  2009.0   \n",
       "Naruto Shippuden: Ultimate Ninja 4                  3059      PS2  2007.0   \n",
       "The Gunstringer                                     4772     X360  2011.0   \n",
       "\n",
       "                                                           Genre  \\\n",
       "Name                                                               \n",
       "Cars: Race-O-Rama                                         Racing   \n",
       "Dora The Explorer: Dora Saves the Snow Princess         Platform   \n",
       "Sesame Street: Elmo's A-to-Zoo Adventure                    Misc   \n",
       "TRON: Evolution                                           Action   \n",
       "Transformers: Revenge of the Fallen (Wii & PS2 ...        Action   \n",
       "Classic NES Series: Metroid                            Adventure   \n",
       "Disney Princess: Enchanting Storybooks                      Misc   \n",
       "Marvel: Ultimate Alliance 2                         Role-Playing   \n",
       "Naruto Shippuden: Ultimate Ninja 4                      Fighting   \n",
       "The Gunstringer                                          Shooter   \n",
       "\n",
       "                                                                                 Publisher  \\\n",
       "Name                                                                                         \n",
       "Cars: Race-O-Rama                                                                      THQ   \n",
       "Dora The Explorer: Dora Saves the Snow Princess                       Take-Two Interactive   \n",
       "Sesame Street: Elmo's A-to-Zoo Adventure            Warner Bros. Interactive Entertainment   \n",
       "TRON: Evolution                                                 Disney Interactive Studios   \n",
       "Transformers: Revenge of the Fallen (Wii & PS2 ...                              Activision   \n",
       "Classic NES Series: Metroid                                                       Nintendo   \n",
       "Disney Princess: Enchanting Storybooks                                                 THQ   \n",
       "Marvel: Ultimate Alliance 2                                                     Activision   \n",
       "Naruto Shippuden: Ultimate Ninja 4                                                   Atari   \n",
       "The Gunstringer                                                     Microsoft Game Studios   \n",
       "\n",
       "                                                    NA_Sales  EU_Sales  \\\n",
       "Name                                                                     \n",
       "Cars: Race-O-Rama                                       0.27      0.03   \n",
       "Dora The Explorer: Dora Saves the Snow Princess         0.27      0.16   \n",
       "Sesame Street: Elmo's A-to-Zoo Adventure                0.27      0.00   \n",
       "TRON: Evolution                                         0.27      0.10   \n",
       "Transformers: Revenge of the Fallen (Wii & PS2 ...      0.27      0.14   \n",
       "Classic NES Series: Metroid                             0.26      0.10   \n",
       "Disney Princess: Enchanting Storybooks                  0.26      0.11   \n",
       "Marvel: Ultimate Alliance 2                             0.26      0.05   \n",
       "Naruto Shippuden: Ultimate Ninja 4                      0.26      0.01   \n",
       "The Gunstringer                                         0.26      0.11   \n",
       "\n",
       "                                                    JP_Sales  Other_Sales  \\\n",
       "Name                                                                        \n",
       "Cars: Race-O-Rama                                       0.00         0.17   \n",
       "Dora The Explorer: Dora Saves the Snow Princess         0.00         0.04   \n",
       "Sesame Street: Elmo's A-to-Zoo Adventure                0.00         0.02   \n",
       "TRON: Evolution                                         0.00         0.05   \n",
       "Transformers: Revenge of the Fallen (Wii & PS2 ...      0.00         0.04   \n",
       "Classic NES Series: Metroid                             0.07         0.01   \n",
       "Disney Princess: Enchanting Storybooks                  0.00         0.04   \n",
       "Marvel: Ultimate Alliance 2                             0.00         0.03   \n",
       "Naruto Shippuden: Ultimate Ninja 4                      0.13         0.26   \n",
       "The Gunstringer                                         0.00         0.04   \n",
       "\n",
       "                                                    Global_Sales  \n",
       "Name                                                              \n",
       "Cars: Race-O-Rama                                           0.47  \n",
       "Dora The Explorer: Dora Saves the Snow Princess             0.46  \n",
       "Sesame Street: Elmo's A-to-Zoo Adventure                    0.28  \n",
       "TRON: Evolution                                             0.43  \n",
       "Transformers: Revenge of the Fallen (Wii & PS2 ...          0.45  \n",
       "Classic NES Series: Metroid                                 0.43  \n",
       "Disney Princess: Enchanting Storybooks                      0.41  \n",
       "Marvel: Ultimate Alliance 2                                 0.33  \n",
       "Naruto Shippuden: Ultimate Ninja 4                          0.66  \n",
       "The Gunstringer                                             0.41  "
      ],
      "text/html": "<div>\n<style scoped>\n    .dataframe tbody tr th:only-of-type {\n        vertical-align: middle;\n    }\n\n    .dataframe tbody tr th {\n        vertical-align: top;\n    }\n\n    .dataframe thead th {\n        text-align: right;\n    }\n</style>\n<table border=\"1\" class=\"dataframe\">\n  <thead>\n    <tr style=\"text-align: right;\">\n      <th></th>\n      <th>Rank</th>\n      <th>Platform</th>\n      <th>Year</th>\n      <th>Genre</th>\n      <th>Publisher</th>\n      <th>NA_Sales</th>\n      <th>EU_Sales</th>\n      <th>JP_Sales</th>\n      <th>Other_Sales</th>\n      <th>Global_Sales</th>\n    </tr>\n    <tr>\n      <th>Name</th>\n      <th></th>\n      <th></th>\n      <th></th>\n      <th></th>\n      <th></th>\n      <th></th>\n      <th></th>\n      <th></th>\n      <th></th>\n      <th></th>\n    </tr>\n  </thead>\n  <tbody>\n    <tr>\n      <th>Cars: Race-O-Rama</th>\n      <td>4210</td>\n      <td>PS2</td>\n      <td>2009.0</td>\n      <td>Racing</td>\n      <td>THQ</td>\n      <td>0.27</td>\n      <td>0.03</td>\n      <td>0.00</td>\n      <td>0.17</td>\n      <td>0.47</td>\n    </tr>\n    <tr>\n      <th>Dora The Explorer: Dora Saves the Snow Princess</th>\n      <td>4252</td>\n      <td>DS</td>\n      <td>2008.0</td>\n      <td>Platform</td>\n      <td>Take-Two Interactive</td>\n      <td>0.27</td>\n      <td>0.16</td>\n      <td>0.00</td>\n      <td>0.04</td>\n      <td>0.46</td>\n    </tr>\n    <tr>\n      <th>Sesame Street: Elmo's A-to-Zoo Adventure</th>\n      <td>6179</td>\n      <td>DS</td>\n      <td>2010.0</td>\n      <td>Misc</td>\n      <td>Warner Bros. Interactive Entertainment</td>\n      <td>0.27</td>\n      <td>0.00</td>\n      <td>0.00</td>\n      <td>0.02</td>\n      <td>0.28</td>\n    </tr>\n    <tr>\n      <th>TRON: Evolution</th>\n      <td>4557</td>\n      <td>PS3</td>\n      <td>2010.0</td>\n      <td>Action</td>\n      <td>Disney Interactive Studios</td>\n      <td>0.27</td>\n      <td>0.10</td>\n      <td>0.00</td>\n      <td>0.05</td>\n      <td>0.43</td>\n    </tr>\n    <tr>\n      <th>Transformers: Revenge of the Fallen (Wii &amp; PS2 Version)</th>\n      <td>4356</td>\n      <td>DS</td>\n      <td>2009.0</td>\n      <td>Action</td>\n      <td>Activision</td>\n      <td>0.27</td>\n      <td>0.14</td>\n      <td>0.00</td>\n      <td>0.04</td>\n      <td>0.45</td>\n    </tr>\n    <tr>\n      <th>Classic NES Series: Metroid</th>\n      <td>4494</td>\n      <td>GBA</td>\n      <td>2004.0</td>\n      <td>Adventure</td>\n      <td>Nintendo</td>\n      <td>0.26</td>\n      <td>0.10</td>\n      <td>0.07</td>\n      <td>0.01</td>\n      <td>0.43</td>\n    </tr>\n    <tr>\n      <th>Disney Princess: Enchanting Storybooks</th>\n      <td>4743</td>\n      <td>Wii</td>\n      <td>2011.0</td>\n      <td>Misc</td>\n      <td>THQ</td>\n      <td>0.26</td>\n      <td>0.11</td>\n      <td>0.00</td>\n      <td>0.04</td>\n      <td>0.41</td>\n    </tr>\n    <tr>\n      <th>Marvel: Ultimate Alliance 2</th>\n      <td>5466</td>\n      <td>Wii</td>\n      <td>2009.0</td>\n      <td>Role-Playing</td>\n      <td>Activision</td>\n      <td>0.26</td>\n      <td>0.05</td>\n      <td>0.00</td>\n      <td>0.03</td>\n      <td>0.33</td>\n    </tr>\n    <tr>\n      <th>Naruto Shippuden: Ultimate Ninja 4</th>\n      <td>3059</td>\n      <td>PS2</td>\n      <td>2007.0</td>\n      <td>Fighting</td>\n      <td>Atari</td>\n      <td>0.26</td>\n      <td>0.01</td>\n      <td>0.13</td>\n      <td>0.26</td>\n      <td>0.66</td>\n    </tr>\n    <tr>\n      <th>The Gunstringer</th>\n      <td>4772</td>\n      <td>X360</td>\n      <td>2011.0</td>\n      <td>Shooter</td>\n      <td>Microsoft Game Studios</td>\n      <td>0.26</td>\n      <td>0.11</td>\n      <td>0.00</td>\n      <td>0.04</td>\n      <td>0.41</td>\n    </tr>\n  </tbody>\n</table>\n</div>"
     },
     "metadata": {},
     "execution_count": 8
    }
   ],
   "source": [
    "# Get the mean\n",
    "na_mean = df['NA_Sales'].mean()\n",
    "\n",
    "# get the 5 nearest, but above the mean, then sort by name\n",
    "above = df.loc[df['NA_Sales'] >= na_mean].sort_values(by='NA_Sales', ascending=False).tail(5)\n",
    "above = above.sort_values(by='Name')\n",
    "\n",
    "# get the 5 nearest, but below the mean, then sort by name\n",
    "below = df.loc[df['NA_Sales'] < na_mean].sort_values(by='NA_Sales', ascending=False).head(5)\n",
    "below = below.sort_values(by='Name')\n",
    "\n",
    "# show the results\n",
    "results = pd.concat([above, below])\n",
    "results.set_index('Name')"
   ]
  },
  {
   "source": [
    "## Top-selling game in NA, how many standard deviations above (or below) the mean are its sales"
   ],
   "cell_type": "markdown",
   "metadata": {}
  },
  {
   "cell_type": "code",
   "execution_count": 9,
   "metadata": {},
   "outputs": [
    {
     "output_type": "execute_result",
     "data": {
      "text/plain": [
       "50.80306374875828"
      ]
     },
     "metadata": {},
     "execution_count": 9
    }
   ],
   "source": [
    "# get the NA_Sales top game\n",
    "top_na_games = df['NA_Sales']\n",
    "top_na_game = top_na_games.sort_values(ascending=False)[0]\n",
    "\n",
    "#divide our top game by standard deviation of the whole set... i think this is how this works?\n",
    "top_na_game/top_na_games.std()"
   ]
  },
  {
   "source": [
    "## Wii global sales compared to other consoles"
   ],
   "cell_type": "markdown",
   "metadata": {}
  },
  {
   "cell_type": "code",
   "execution_count": 10,
   "metadata": {},
   "outputs": [
    {
     "output_type": "execute_result",
     "data": {
      "text/plain": [
       "Platform\n",
       "PS2     1255.64\n",
       "X360     979.96\n",
       "PS3      957.84\n",
       "Wii      926.71\n",
       "DS       822.49\n",
       "PS       730.66\n",
       "GBA      318.50\n",
       "PSP      296.28\n",
       "PS4      278.10\n",
       "PC       258.82\n",
       "XB       258.26\n",
       "GB       255.45\n",
       "NES      251.07\n",
       "3DS      247.46\n",
       "N64      218.88\n",
       "SNES     200.05\n",
       "GC       199.36\n",
       "XOne     141.06\n",
       "2600      97.08\n",
       "WiiU      81.86\n",
       "PSV       61.93\n",
       "SAT       33.59\n",
       "GEN       28.36\n",
       "DC        15.97\n",
       "SCD        1.87\n",
       "NG         1.44\n",
       "WS         1.42\n",
       "TG16       0.16\n",
       "3DO        0.10\n",
       "GG         0.04\n",
       "PCFX       0.03\n",
       "Name: Global_Sales, dtype: float64"
      ]
     },
     "metadata": {},
     "execution_count": 10
    }
   ],
   "source": [
    "df.groupby('Platform')['Global_Sales'].sum().sort_values(ascending=False)"
   ]
  },
  {
   "source": [
    "## What are the top 10 games in Japan?"
   ],
   "cell_type": "markdown",
   "metadata": {}
  },
  {
   "cell_type": "code",
   "execution_count": 11,
   "metadata": {},
   "outputs": [
    {
     "output_type": "execute_result",
     "data": {
      "text/plain": [
       "                                            Name  JP_Sales\n",
       "4                       Pokemon Red/Pokemon Blue     10.22\n",
       "12                   Pokemon Gold/Pokemon Silver      7.20\n",
       "1                              Super Mario Bros.      6.81\n",
       "6                          New Super Mario Bros.      6.50\n",
       "20                 Pokemon Diamond/Pokemon Pearl      6.04\n",
       "26                   Pokemon Black/Pokemon White      5.65\n",
       "25                 Pokemon Ruby/Pokemon Sapphire      5.38\n",
       "41                   Animal Crossing: Wild World      5.33\n",
       "27   Brain Age 2: More Training in Minutes a Day      5.32\n",
       "214                     Monster Hunter Freedom 3      4.87"
      ],
      "text/html": "<div>\n<style scoped>\n    .dataframe tbody tr th:only-of-type {\n        vertical-align: middle;\n    }\n\n    .dataframe tbody tr th {\n        vertical-align: top;\n    }\n\n    .dataframe thead th {\n        text-align: right;\n    }\n</style>\n<table border=\"1\" class=\"dataframe\">\n  <thead>\n    <tr style=\"text-align: right;\">\n      <th></th>\n      <th>Name</th>\n      <th>JP_Sales</th>\n    </tr>\n  </thead>\n  <tbody>\n    <tr>\n      <th>4</th>\n      <td>Pokemon Red/Pokemon Blue</td>\n      <td>10.22</td>\n    </tr>\n    <tr>\n      <th>12</th>\n      <td>Pokemon Gold/Pokemon Silver</td>\n      <td>7.20</td>\n    </tr>\n    <tr>\n      <th>1</th>\n      <td>Super Mario Bros.</td>\n      <td>6.81</td>\n    </tr>\n    <tr>\n      <th>6</th>\n      <td>New Super Mario Bros.</td>\n      <td>6.50</td>\n    </tr>\n    <tr>\n      <th>20</th>\n      <td>Pokemon Diamond/Pokemon Pearl</td>\n      <td>6.04</td>\n    </tr>\n    <tr>\n      <th>26</th>\n      <td>Pokemon Black/Pokemon White</td>\n      <td>5.65</td>\n    </tr>\n    <tr>\n      <th>25</th>\n      <td>Pokemon Ruby/Pokemon Sapphire</td>\n      <td>5.38</td>\n    </tr>\n    <tr>\n      <th>41</th>\n      <td>Animal Crossing: Wild World</td>\n      <td>5.33</td>\n    </tr>\n    <tr>\n      <th>27</th>\n      <td>Brain Age 2: More Training in Minutes a Day</td>\n      <td>5.32</td>\n    </tr>\n    <tr>\n      <th>214</th>\n      <td>Monster Hunter Freedom 3</td>\n      <td>4.87</td>\n    </tr>\n  </tbody>\n</table>\n</div>"
     },
     "metadata": {},
     "execution_count": 11
    }
   ],
   "source": [
    "df[['Name', 'JP_Sales']].sort_values(by='JP_Sales', ascending=False).head(10)"
   ]
  },
  {
   "source": [
    "## What are the top 5 years with the most sales globally?"
   ],
   "cell_type": "markdown",
   "metadata": {}
  },
  {
   "cell_type": "code",
   "execution_count": 12,
   "metadata": {},
   "outputs": [
    {
     "output_type": "execute_result",
     "data": {
      "text/plain": [
       "Year\n",
       "2008.0    678.90\n",
       "2009.0    667.30\n",
       "2007.0    611.13\n",
       "2010.0    600.45\n",
       "2006.0    521.04\n",
       "Name: Global_Sales, dtype: float64"
      ]
     },
     "metadata": {},
     "execution_count": 12
    }
   ],
   "source": [
    "df.groupby('Year')['Global_Sales'].sum().sort_values(ascending=False).head(5)"
   ]
  },
  {
   "source": [
    "## What are the 3 the worst performing genres in Europe?"
   ],
   "cell_type": "markdown",
   "metadata": {}
  },
  {
   "cell_type": "code",
   "execution_count": 13,
   "metadata": {},
   "outputs": [
    {
     "output_type": "execute_result",
     "data": {
      "text/plain": [
       "Genre\n",
       "Strategy     45.34\n",
       "Puzzle       50.78\n",
       "Adventure    64.13\n",
       "Name: EU_Sales, dtype: float64"
      ]
     },
     "metadata": {},
     "execution_count": 13
    }
   ],
   "source": [
    "df.groupby('Genre')['EU_Sales'].sum().sort_values().head(3)"
   ]
  }
 ]
}