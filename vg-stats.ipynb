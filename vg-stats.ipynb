{
 "metadata": {
  "language_info": {
   "codemirror_mode": {
    "name": "ipython",
    "version": 3
   },
   "file_extension": ".py",
   "mimetype": "text/x-python",
   "name": "python",
   "nbconvert_exporter": "python",
   "pygments_lexer": "ipython3",
   "version": "3.9.0-final"
  },
  "orig_nbformat": 2,
  "kernelspec": {
   "name": "python39064bitvenvvenvf96eba0e8a68404c97271e104f7a5a03",
   "display_name": "Python 3.9.0 64-bit ('.venv': venv)"
  }
 },
 "nbformat": 4,
 "nbformat_minor": 2,
 "cells": [
  {
   "source": [
    "# Video Game Sales\n",
    "\n",
    "Mark Bell\n",
    "\n",
    "2020 Nov 29"
   ],
   "cell_type": "markdown",
   "metadata": {}
  },
  {
   "cell_type": "code",
   "execution_count": 2,
   "metadata": {},
   "outputs": [],
   "source": [
    "import pandas as pd"
   ]
  },
  {
   "cell_type": "code",
   "execution_count": 5,
   "metadata": {},
   "outputs": [],
   "source": [
    "df = pd.read_csv('./csv/vgsales.csv')\n"
   ]
  },
  {
   "source": [
    "## Most common video game publisher"
   ],
   "cell_type": "markdown",
   "metadata": {}
  },
  {
   "source": [
    "## Most common platform"
   ],
   "cell_type": "markdown",
   "metadata": {}
  },
  {
   "source": [
    "## Most common genre"
   ],
   "cell_type": "markdown",
   "metadata": {}
  },
  {
   "source": [
    "## Top 20 highest grossing games"
   ],
   "cell_type": "markdown",
   "metadata": {}
  },
  {
   "source": [
    "##"
   ],
   "cell_type": "markdown",
   "metadata": {}
  }
 ]
}